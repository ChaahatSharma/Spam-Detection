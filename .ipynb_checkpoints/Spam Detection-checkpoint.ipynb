{
 "cells": [
  {
   "cell_type": "code",
   "execution_count": 1,
   "id": "933166c8",
   "metadata": {},
   "outputs": [],
   "source": [
    "import pandas as pd\n",
    "import numpy as np\n",
    "import seaborn as sns\n",
    "import matplotlib.pyplot as plt\n",
    "%matplotlib inline"
   ]
  },
  {
   "cell_type": "code",
   "execution_count": 3,
   "id": "cc07520e",
   "metadata": {},
   "outputs": [],
   "source": [
    "data = pd.read_table('SMSSpamCollection.txt', sep='\\t', header=None, names = ['label','messages'])"
   ]
  },
  {
   "cell_type": "code",
   "execution_count": 5,
   "id": "a962dc34",
   "metadata": {},
   "outputs": [
    {
     "data": {
      "text/html": [
       "<div>\n",
       "<style scoped>\n",
       "    .dataframe tbody tr th:only-of-type {\n",
       "        vertical-align: middle;\n",
       "    }\n",
       "\n",
       "    .dataframe tbody tr th {\n",
       "        vertical-align: top;\n",
       "    }\n",
       "\n",
       "    .dataframe thead th {\n",
       "        text-align: right;\n",
       "    }\n",
       "</style>\n",
       "<table border=\"1\" class=\"dataframe\">\n",
       "  <thead>\n",
       "    <tr style=\"text-align: right;\">\n",
       "      <th></th>\n",
       "      <th>label</th>\n",
       "      <th>messages</th>\n",
       "    </tr>\n",
       "  </thead>\n",
       "  <tbody>\n",
       "    <tr>\n",
       "      <th>5562</th>\n",
       "      <td>ham</td>\n",
       "      <td>Ok lor... Sony ericsson salesman... I ask shuh...</td>\n",
       "    </tr>\n",
       "    <tr>\n",
       "      <th>5563</th>\n",
       "      <td>ham</td>\n",
       "      <td>Ard 6 like dat lor.</td>\n",
       "    </tr>\n",
       "    <tr>\n",
       "      <th>5564</th>\n",
       "      <td>ham</td>\n",
       "      <td>Why don't you wait 'til at least wednesday to ...</td>\n",
       "    </tr>\n",
       "    <tr>\n",
       "      <th>5565</th>\n",
       "      <td>ham</td>\n",
       "      <td>Huh y lei...</td>\n",
       "    </tr>\n",
       "    <tr>\n",
       "      <th>5566</th>\n",
       "      <td>spam</td>\n",
       "      <td>REMINDER FROM O2: To get 2.50 pounds free call...</td>\n",
       "    </tr>\n",
       "    <tr>\n",
       "      <th>5567</th>\n",
       "      <td>spam</td>\n",
       "      <td>This is the 2nd time we have tried 2 contact u...</td>\n",
       "    </tr>\n",
       "    <tr>\n",
       "      <th>5568</th>\n",
       "      <td>ham</td>\n",
       "      <td>Will ü b going to esplanade fr home?</td>\n",
       "    </tr>\n",
       "    <tr>\n",
       "      <th>5569</th>\n",
       "      <td>ham</td>\n",
       "      <td>Pity, * was in mood for that. So...any other s...</td>\n",
       "    </tr>\n",
       "    <tr>\n",
       "      <th>5570</th>\n",
       "      <td>ham</td>\n",
       "      <td>The guy did some bitching but I acted like i'd...</td>\n",
       "    </tr>\n",
       "    <tr>\n",
       "      <th>5571</th>\n",
       "      <td>ham</td>\n",
       "      <td>Rofl. Its true to its name</td>\n",
       "    </tr>\n",
       "  </tbody>\n",
       "</table>\n",
       "</div>"
      ],
      "text/plain": [
       "     label                                           messages\n",
       "5562   ham  Ok lor... Sony ericsson salesman... I ask shuh...\n",
       "5563   ham                                Ard 6 like dat lor.\n",
       "5564   ham  Why don't you wait 'til at least wednesday to ...\n",
       "5565   ham                                       Huh y lei...\n",
       "5566  spam  REMINDER FROM O2: To get 2.50 pounds free call...\n",
       "5567  spam  This is the 2nd time we have tried 2 contact u...\n",
       "5568   ham               Will ü b going to esplanade fr home?\n",
       "5569   ham  Pity, * was in mood for that. So...any other s...\n",
       "5570   ham  The guy did some bitching but I acted like i'd...\n",
       "5571   ham                         Rofl. Its true to its name"
      ]
     },
     "execution_count": 5,
     "metadata": {},
     "output_type": "execute_result"
    }
   ],
   "source": [
    "data.tail(10)"
   ]
  },
  {
   "cell_type": "code",
   "execution_count": 7,
   "id": "87ed4422",
   "metadata": {},
   "outputs": [
    {
     "data": {
      "text/plain": [
       "'Pls go ahead with watts. I just wanted to be sure. Do have a great weekend. Abiola'"
      ]
     },
     "execution_count": 7,
     "metadata": {},
     "output_type": "execute_result"
    }
   ],
   "source": [
    "data['messages'][40]"
   ]
  },
  {
   "cell_type": "code",
   "execution_count": 9,
   "id": "ba1fa761",
   "metadata": {},
   "outputs": [
    {
     "data": {
      "text/plain": [
       "(5572, 2)"
      ]
     },
     "execution_count": 9,
     "metadata": {},
     "output_type": "execute_result"
    }
   ],
   "source": [
    "data.shape"
   ]
  },
  {
   "cell_type": "code",
   "execution_count": 11,
   "id": "80d9afef",
   "metadata": {},
   "outputs": [
    {
     "name": "stdout",
     "output_type": "stream",
     "text": [
      "<class 'pandas.core.frame.DataFrame'>\n",
      "RangeIndex: 5572 entries, 0 to 5571\n",
      "Data columns (total 2 columns):\n",
      " #   Column    Non-Null Count  Dtype \n",
      "---  ------    --------------  ----- \n",
      " 0   label     5572 non-null   object\n",
      " 1   messages  5572 non-null   object\n",
      "dtypes: object(2)\n",
      "memory usage: 87.2+ KB\n"
     ]
    }
   ],
   "source": [
    "data.info()"
   ]
  },
  {
   "cell_type": "code",
   "execution_count": 12,
   "id": "47477934",
   "metadata": {},
   "outputs": [
    {
     "data": {
      "text/plain": [
       "Index(['label', 'messages'], dtype='object')"
      ]
     },
     "execution_count": 12,
     "metadata": {},
     "output_type": "execute_result"
    }
   ],
   "source": [
    "data.columns"
   ]
  },
  {
   "cell_type": "code",
   "execution_count": 13,
   "id": "28c0a0b8",
   "metadata": {},
   "outputs": [
    {
     "data": {
      "text/html": [
       "<div>\n",
       "<style scoped>\n",
       "    .dataframe tbody tr th:only-of-type {\n",
       "        vertical-align: middle;\n",
       "    }\n",
       "\n",
       "    .dataframe tbody tr th {\n",
       "        vertical-align: top;\n",
       "    }\n",
       "\n",
       "    .dataframe thead th {\n",
       "        text-align: right;\n",
       "    }\n",
       "</style>\n",
       "<table border=\"1\" class=\"dataframe\">\n",
       "  <thead>\n",
       "    <tr style=\"text-align: right;\">\n",
       "      <th></th>\n",
       "      <th>label</th>\n",
       "      <th>messages</th>\n",
       "    </tr>\n",
       "  </thead>\n",
       "  <tbody>\n",
       "    <tr>\n",
       "      <th>count</th>\n",
       "      <td>5572</td>\n",
       "      <td>5572</td>\n",
       "    </tr>\n",
       "    <tr>\n",
       "      <th>unique</th>\n",
       "      <td>2</td>\n",
       "      <td>5169</td>\n",
       "    </tr>\n",
       "    <tr>\n",
       "      <th>top</th>\n",
       "      <td>ham</td>\n",
       "      <td>Sorry, I'll call later</td>\n",
       "    </tr>\n",
       "    <tr>\n",
       "      <th>freq</th>\n",
       "      <td>4825</td>\n",
       "      <td>30</td>\n",
       "    </tr>\n",
       "  </tbody>\n",
       "</table>\n",
       "</div>"
      ],
      "text/plain": [
       "       label                messages\n",
       "count   5572                    5572\n",
       "unique     2                    5169\n",
       "top      ham  Sorry, I'll call later\n",
       "freq    4825                      30"
      ]
     },
     "execution_count": 13,
     "metadata": {},
     "output_type": "execute_result"
    }
   ],
   "source": [
    "data.describe()"
   ]
  },
  {
   "cell_type": "code",
   "execution_count": 19,
   "id": "a766d952",
   "metadata": {},
   "outputs": [
    {
     "data": {
      "image/png": "[encoded data removed]",
      "text/plain": [
       "<Figure size 432x288 with 1 Axes>"
      ]
     },
     "metadata": {},
     "output_type": "display_data"
    }
   ],
   "source": [
    "len_ham = data.loc[data.label == 'ham'].count()[0]\n",
    "len_spam = data.loc[data.label == 'spam'].count()[0]\n",
    "\n",
    "labels = ['ham','spam']\n",
    "\n",
    "plt.pie([len_ham, len_spam], labels = labels, explode=[0.1,0.1], shadow = True, autopct = '%.2f%%')\n",
    "plt.legend()\n",
    "plt.show()\n",
    "\n",
    "# inbalanced data"
   ]
  },
  {
   "cell_type": "code",
   "execution_count": 20,
   "id": "7aa6f58a",
   "metadata": {},
   "outputs": [],
   "source": [
    "data['label'] = data.label.map({'ham':0, 'spam':1})"
   ]
  },
  {
   "cell_type": "code",
   "execution_count": 22,
   "id": "b45953eb",
   "metadata": {},
   "outputs": [],
   "source": [
    "from sklearn.model_selection import train_test_split\n",
    "\n",
    "X_train, X_test, y_train, y_test = train_test_split(data.messages, data.label, test_size = 0.2, random_state = 3)"
   ]
  },
  {
   "cell_type": "code",
   "execution_count": 23,
   "id": "13a8c6f7",
   "metadata": {},
   "outputs": [
    {
     "data": {
      "text/plain": [
       "(4457,)"
      ]
     },
     "execution_count": 23,
     "metadata": {},
     "output_type": "execute_result"
    }
   ],
   "source": [
    "X_train.shape"
   ]
  },
  {
   "cell_type": "code",
   "execution_count": 25,
   "id": "139d4646",
   "metadata": {},
   "outputs": [
    {
     "data": {
      "text/plain": [
       "(1115,)"
      ]
     },
     "execution_count": 25,
     "metadata": {},
     "output_type": "execute_result"
    }
   ],
   "source": [
    "X_test.shape"
   ]
  },
  {
   "cell_type": "code",
   "execution_count": 26,
   "id": "e640fa18",
   "metadata": {},
   "outputs": [
    {
     "data": {
      "text/plain": [
       "'Go until jurong point, crazy.. Available only in bugis n great world la e buffet... Cine there got amore wat...'"
      ]
     },
     "execution_count": 26,
     "metadata": {},
     "output_type": "execute_result"
    }
   ],
   "source": [
    "X_train[0]"
   ]
  },
  {
   "cell_type": "code",
   "execution_count": 33,
   "id": "fff40fd4",
   "metadata": {},
   "outputs": [],
   "source": [
    "# convert text to vectors\n",
    "\n",
    "from sklearn.feature_extraction.text import CountVectorizer\n",
    "count_vector = CountVectorizer()\n",
    "\n",
    "training_data = count_vector.fit_transform(X_train)\n",
    "\n",
    "testing_data = count_vector.transform(X_test)"
   ]
  },
  {
   "cell_type": "code",
   "execution_count": 36,
   "id": "a5a65db0",
   "metadata": {},
   "outputs": [
    {
     "data": {
      "text/plain": [
       "array([1, 0, 1, ..., 0, 0, 0], dtype=int64)"
      ]
     },
     "execution_count": 36,
     "metadata": {},
     "output_type": "execute_result"
    }
   ],
   "source": [
    "# Naive Bayes\n",
    "\n",
    "from sklearn.naive_bayes import MultinomialNB\n",
    "\n",
    "nb = MultinomialNB()\n",
    "nb.fit(training_data, y_train)\n",
    "\n",
    "nb_pred = nb.predict(testing_data)\n",
    "nb_pred"
   ]
  },
  {
   "cell_type": "code",
   "execution_count": 78,
   "id": "ae602e3b",
   "metadata": {},
   "outputs": [],
   "source": [
    "from sklearn.metrics import accuracy_score, precision_score, recall_score\n",
    "def model_acc(y_test, nb_pred):\n",
    "    print('Accuracy Score : ', accuracy_score(y_test, nb_pred))"
   ]
  },
  {
   "cell_type": "code",
   "execution_count": 79,
   "id": "2ba90a8c",
   "metadata": {},
   "outputs": [],
   "source": [
    "# Check any custom message\n",
    "\n",
    "def predict_new(doc):\n",
    "\n",
    "    test = count_vector.transform(doc)\n",
    "    arr = nb.predict(test)\n",
    "    \n",
    "    if arr[0] == 0:\n",
    "        a = 'Ham'\n",
    "    else: a = 'Spam'\n",
    "    \n",
    "    return a"
   ]
  },
  {
   "cell_type": "code",
   "execution_count": 80,
   "id": "b65b3b2f",
   "metadata": {},
   "outputs": [
    {
     "data": {
      "text/plain": [
       "'Ham'"
      ]
     },
     "execution_count": 80,
     "metadata": {},
     "output_type": "execute_result"
    }
   ],
   "source": [
    "doc = pd.Series('Youve won 100$, and you didnt tld me?')\n",
    "predict_new(doc)"
   ]
  },
  {
   "cell_type": "code",
   "execution_count": 81,
   "id": "4c742266",
   "metadata": {},
   "outputs": [
    {
     "data": {
      "text/plain": [
       "'Spam'"
      ]
     },
     "execution_count": 81,
     "metadata": {},
     "output_type": "execute_result"
    }
   ],
   "source": [
    "doc = pd.Series('Youve won 100$')\n",
    "predict_new(doc)"
   ]
  },
  {
   "cell_type": "code",
   "execution_count": 75,
   "id": "9caa38c4",
   "metadata": {},
   "outputs": [
    {
     "name": "stdout",
     "output_type": "stream",
     "text": [
      "Fitting 5 folds for each of 35 candidates, totalling 175 fits\n",
      "[CV] C=0.1, gamma=1 ..................................................\n"
     ]
    },
    {
     "name": "stderr",
     "output_type": "stream",
     "text": [
      "[Parallel(n_jobs=1)]: Using backend SequentialBackend with 1 concurrent workers.\n"
     ]
    },
    {
     "name": "stdout",
     "output_type": "stream",
     "text": [
      "[CV] ...................... C=0.1, gamma=1, score=0.867, total=   1.5s\n",
      "[CV] C=0.1, gamma=1 ..................................................\n"
     ]
    },
    {
     "name": "stderr",
     "output_type": "stream",
     "text": [
      "[Parallel(n_jobs=1)]: Done   1 out of   1 | elapsed:    1.4s remaining:    0.0s\n"
     ]
    },
    {
     "name": "stdout",
     "output_type": "stream",
     "text": [
      "[CV] ...................... C=0.1, gamma=1, score=0.867, total=   1.5s\n",
      "[CV] C=0.1, gamma=1 ..................................................\n"
     ]
    },
    {
     "name": "stderr",
     "output_type": "stream",
     "text": [
      "[Parallel(n_jobs=1)]: Done   2 out of   2 | elapsed:    2.9s remaining:    0.0s\n"
     ]
    },
    {
     "name": "stdout",
     "output_type": "stream",
     "text": [
      "[CV] ...................... C=0.1, gamma=1, score=0.868, total=   1.5s\n",
      "[CV] C=0.1, gamma=1 ..................................................\n",
      "[CV] ...................... C=0.1, gamma=1, score=0.868, total=   1.6s\n",
      "[CV] C=0.1, gamma=1 ..................................................\n",
      "[CV] ...................... C=0.1, gamma=1, score=0.868, total=   1.5s\n",
      "[CV] C=0.1, gamma=0.1 ................................................\n",
      "[CV] .................... C=0.1, gamma=0.1, score=0.867, total=   0.8s\n",
      "[CV] C=0.1, gamma=0.1 ................................................\n",
      "[CV] .................... C=0.1, gamma=0.1, score=0.867, total=   0.8s\n",
      "[CV] C=0.1, gamma=0.1 ................................................\n",
      "[CV] .................... C=0.1, gamma=0.1, score=0.868, total=   0.8s\n",
      "[CV] C=0.1, gamma=0.1 ................................................\n",
      "[CV] .................... C=0.1, gamma=0.1, score=0.868, total=   0.8s\n",
      "[CV] C=0.1, gamma=0.1 ................................................\n",
      "[CV] .................... C=0.1, gamma=0.1, score=0.868, total=   0.8s\n",
      "[CV] C=0.1, gamma=0.01 ...............................................\n",
      "[CV] ................... C=0.1, gamma=0.01, score=0.870, total=   0.6s\n",
      "[CV] C=0.1, gamma=0.01 ...............................................\n",
      "[CV] ................... C=0.1, gamma=0.01, score=0.868, total=   0.6s\n",
      "[CV] C=0.1, gamma=0.01 ...............................................\n",
      "[CV] ................... C=0.1, gamma=0.01, score=0.871, total=   0.7s\n",
      "[CV] C=0.1, gamma=0.01 ...............................................\n",
      "[CV] ................... C=0.1, gamma=0.01, score=0.872, total=   0.7s\n",
      "[CV] C=0.1, gamma=0.01 ...............................................\n",
      "[CV] ................... C=0.1, gamma=0.01, score=0.873, total=   0.7s\n",
      "[CV] C=0.1, gamma=0.001 ..............................................\n",
      "[CV] .................. C=0.1, gamma=0.001, score=0.867, total=   0.7s\n",
      "[CV] C=0.1, gamma=0.001 ..............................................\n",
      "[CV] .................. C=0.1, gamma=0.001, score=0.867, total=   0.7s\n",
      "[CV] C=0.1, gamma=0.001 ..............................................\n",
      "[CV] .................. C=0.1, gamma=0.001, score=0.868, total=   0.7s\n",
      "[CV] C=0.1, gamma=0.001 ..............................................\n",
      "[CV] .................. C=0.1, gamma=0.001, score=0.868, total=   0.7s\n",
      "[CV] C=0.1, gamma=0.001 ..............................................\n",
      "[CV] .................. C=0.1, gamma=0.001, score=0.868, total=   0.5s\n",
      "[CV] C=0.1, gamma=0.0001 .............................................\n",
      "[CV] ................. C=0.1, gamma=0.0001, score=0.867, total=   0.6s\n",
      "[CV] C=0.1, gamma=0.0001 .............................................\n",
      "[CV] ................. C=0.1, gamma=0.0001, score=0.867, total=   0.6s\n",
      "[CV] C=0.1, gamma=0.0001 .............................................\n",
      "[CV] ................. C=0.1, gamma=0.0001, score=0.868, total=   0.5s\n",
      "[CV] C=0.1, gamma=0.0001 .............................................\n",
      "[CV] ................. C=0.1, gamma=0.0001, score=0.868, total=   0.5s\n",
      "[CV] C=0.1, gamma=0.0001 .............................................\n",
      "[CV] ................. C=0.1, gamma=0.0001, score=0.868, total=   0.5s\n",
      "[CV] C=0.5, gamma=1 ..................................................\n",
      "[CV] ...................... C=0.5, gamma=1, score=0.869, total=   1.5s\n",
      "[CV] C=0.5, gamma=1 ..................................................\n",
      "[CV] ...................... C=0.5, gamma=1, score=0.870, total=   1.5s\n",
      "[CV] C=0.5, gamma=1 ..................................................\n",
      "[CV] ...................... C=0.5, gamma=1, score=0.872, total=   1.5s\n",
      "[CV] C=0.5, gamma=1 ..................................................\n",
      "[CV] ...................... C=0.5, gamma=1, score=0.873, total=   1.5s\n",
      "[CV] C=0.5, gamma=1 ..................................................\n",
      "[CV] ...................... C=0.5, gamma=1, score=0.870, total=   1.5s\n",
      "[CV] C=0.5, gamma=0.1 ................................................\n",
      "[CV] .................... C=0.5, gamma=0.1, score=0.922, total=   0.8s\n",
      "[CV] C=0.5, gamma=0.1 ................................................\n",
      "[CV] .................... C=0.5, gamma=0.1, score=0.929, total=   0.8s\n",
      "[CV] C=0.5, gamma=0.1 ................................................\n",
      "[CV] .................... C=0.5, gamma=0.1, score=0.923, total=   0.8s\n",
      "[CV] C=0.5, gamma=0.1 ................................................\n",
      "[CV] .................... C=0.5, gamma=0.1, score=0.917, total=   0.8s\n",
      "[CV] C=0.5, gamma=0.1 ................................................\n",
      "[CV] .................... C=0.5, gamma=0.1, score=0.929, total=   0.8s\n",
      "[CV] C=0.5, gamma=0.01 ...............................................\n",
      "[CV] ................... C=0.5, gamma=0.01, score=0.965, total=   0.5s\n",
      "[CV] C=0.5, gamma=0.01 ...............................................\n",
      "[CV] ................... C=0.5, gamma=0.01, score=0.967, total=   0.5s\n",
      "[CV] C=0.5, gamma=0.01 ...............................................\n",
      "[CV] ................... C=0.5, gamma=0.01, score=0.970, total=   0.5s\n",
      "[CV] C=0.5, gamma=0.01 ...............................................\n",
      "[CV] ................... C=0.5, gamma=0.01, score=0.973, total=   0.5s\n",
      "[CV] C=0.5, gamma=0.01 ...............................................\n",
      "[CV] ................... C=0.5, gamma=0.01, score=0.967, total=   0.5s\n",
      "[CV] C=0.5, gamma=0.001 ..............................................\n",
      "[CV] .................. C=0.5, gamma=0.001, score=0.867, total=   0.5s\n",
      "[CV] C=0.5, gamma=0.001 ..............................................\n",
      "[CV] .................. C=0.5, gamma=0.001, score=0.867, total=   0.5s\n",
      "[CV] C=0.5, gamma=0.001 ..............................................\n",
      "[CV] .................. C=0.5, gamma=0.001, score=0.868, total=   0.5s\n",
      "[CV] C=0.5, gamma=0.001 ..............................................\n",
      "[CV] .................. C=0.5, gamma=0.001, score=0.868, total=   0.5s\n",
      "[CV] C=0.5, gamma=0.001 ..............................................\n",
      "[CV] .................. C=0.5, gamma=0.001, score=0.868, total=   0.5s\n",
      "[CV] C=0.5, gamma=0.0001 .............................................\n",
      "[CV] ................. C=0.5, gamma=0.0001, score=0.867, total=   0.5s\n",
      "[CV] C=0.5, gamma=0.0001 .............................................\n",
      "[CV] ................. C=0.5, gamma=0.0001, score=0.867, total=   0.5s\n",
      "[CV] C=0.5, gamma=0.0001 .............................................\n",
      "[CV] ................. C=0.5, gamma=0.0001, score=0.868, total=   0.5s\n",
      "[CV] C=0.5, gamma=0.0001 .............................................\n",
      "[CV] ................. C=0.5, gamma=0.0001, score=0.868, total=   0.5s\n",
      "[CV] C=0.5, gamma=0.0001 .............................................\n",
      "[CV] ................. C=0.5, gamma=0.0001, score=0.868, total=   0.5s\n",
      "[CV] C=1, gamma=1 ....................................................\n",
      "[CV] ........................ C=1, gamma=1, score=0.893, total=   1.5s\n",
      "[CV] C=1, gamma=1 ....................................................\n",
      "[CV] ........................ C=1, gamma=1, score=0.890, total=   1.5s\n",
      "[CV] C=1, gamma=1 ....................................................\n",
      "[CV] ........................ C=1, gamma=1, score=0.891, total=   1.5s\n",
      "[CV] C=1, gamma=1 ....................................................\n",
      "[CV] ........................ C=1, gamma=1, score=0.881, total=   1.5s\n",
      "[CV] C=1, gamma=1 ....................................................\n",
      "[CV] ........................ C=1, gamma=1, score=0.895, total=   1.7s\n",
      "[CV] C=1, gamma=0.1 ..................................................\n",
      "[CV] ...................... C=1, gamma=0.1, score=0.955, total=   0.9s\n",
      "[CV] C=1, gamma=0.1 ..................................................\n",
      "[CV] ...................... C=1, gamma=0.1, score=0.959, total=   0.8s\n",
      "[CV] C=1, gamma=0.1 ..................................................\n",
      "[CV] ...................... C=1, gamma=0.1, score=0.945, total=   0.8s\n",
      "[CV] C=1, gamma=0.1 ..................................................\n",
      "[CV] ...................... C=1, gamma=0.1, score=0.947, total=   0.9s\n",
      "[CV] C=1, gamma=0.1 ..................................................\n",
      "[CV] ...................... C=1, gamma=0.1, score=0.955, total=   0.9s\n",
      "[CV] C=1, gamma=0.01 .................................................\n"
     ]
    },
    {
     "name": "stdout",
     "output_type": "stream",
     "text": [
      "[CV] ..................... C=1, gamma=0.01, score=0.974, total=   0.4s\n",
      "[CV] C=1, gamma=0.01 .................................................\n",
      "[CV] ..................... C=1, gamma=0.01, score=0.975, total=   0.4s\n",
      "[CV] C=1, gamma=0.01 .................................................\n",
      "[CV] ..................... C=1, gamma=0.01, score=0.976, total=   0.4s\n",
      "[CV] C=1, gamma=0.01 .................................................\n",
      "[CV] ..................... C=1, gamma=0.01, score=0.976, total=   0.4s\n",
      "[CV] C=1, gamma=0.01 .................................................\n",
      "[CV] ..................... C=1, gamma=0.01, score=0.973, total=   0.4s\n",
      "[CV] C=1, gamma=0.001 ................................................\n",
      "[CV] .................... C=1, gamma=0.001, score=0.900, total=   0.5s\n",
      "[CV] C=1, gamma=0.001 ................................................\n",
      "[CV] .................... C=1, gamma=0.001, score=0.898, total=   0.5s\n",
      "[CV] C=1, gamma=0.001 ................................................\n",
      "[CV] .................... C=1, gamma=0.001, score=0.906, total=   0.5s\n",
      "[CV] C=1, gamma=0.001 ................................................\n",
      "[CV] .................... C=1, gamma=0.001, score=0.900, total=   0.5s\n",
      "[CV] C=1, gamma=0.001 ................................................\n",
      "[CV] .................... C=1, gamma=0.001, score=0.898, total=   0.5s\n",
      "[CV] C=1, gamma=0.0001 ...............................................\n",
      "[CV] ................... C=1, gamma=0.0001, score=0.867, total=   0.5s\n",
      "[CV] C=1, gamma=0.0001 ...............................................\n",
      "[CV] ................... C=1, gamma=0.0001, score=0.867, total=   0.5s\n",
      "[CV] C=1, gamma=0.0001 ...............................................\n",
      "[CV] ................... C=1, gamma=0.0001, score=0.868, total=   0.5s\n",
      "[CV] C=1, gamma=0.0001 ...............................................\n",
      "[CV] ................... C=1, gamma=0.0001, score=0.868, total=   0.5s\n",
      "[CV] C=1, gamma=0.0001 ...............................................\n",
      "[CV] ................... C=1, gamma=0.0001, score=0.868, total=   0.5s\n",
      "[CV] C=5, gamma=1 ....................................................\n",
      "[CV] ........................ C=5, gamma=1, score=0.893, total=   1.5s\n",
      "[CV] C=5, gamma=1 ....................................................\n",
      "[CV] ........................ C=5, gamma=1, score=0.892, total=   1.5s\n",
      "[CV] C=5, gamma=1 ....................................................\n",
      "[CV] ........................ C=5, gamma=1, score=0.891, total=   1.6s\n",
      "[CV] C=5, gamma=1 ....................................................\n",
      "[CV] ........................ C=5, gamma=1, score=0.881, total=   1.5s\n",
      "[CV] C=5, gamma=1 ....................................................\n",
      "[CV] ........................ C=5, gamma=1, score=0.895, total=   1.6s\n",
      "[CV] C=5, gamma=0.1 ..................................................\n",
      "[CV] ...................... C=5, gamma=0.1, score=0.959, total=   0.9s\n",
      "[CV] C=5, gamma=0.1 ..................................................\n",
      "[CV] ...................... C=5, gamma=0.1, score=0.959, total=   1.0s\n",
      "[CV] C=5, gamma=0.1 ..................................................\n",
      "[CV] ...................... C=5, gamma=0.1, score=0.951, total=   0.9s\n",
      "[CV] C=5, gamma=0.1 ..................................................\n",
      "[CV] ...................... C=5, gamma=0.1, score=0.951, total=   0.9s\n",
      "[CV] C=5, gamma=0.1 ..................................................\n",
      "[CV] ...................... C=5, gamma=0.1, score=0.957, total=   0.9s\n",
      "[CV] C=5, gamma=0.01 .................................................\n",
      "[CV] ..................... C=5, gamma=0.01, score=0.979, total=   0.4s\n",
      "[CV] C=5, gamma=0.01 .................................................\n",
      "[CV] ..................... C=5, gamma=0.01, score=0.983, total=   0.4s\n",
      "[CV] C=5, gamma=0.01 .................................................\n",
      "[CV] ..................... C=5, gamma=0.01, score=0.979, total=   0.4s\n",
      "[CV] C=5, gamma=0.01 .................................................\n",
      "[CV] ..................... C=5, gamma=0.01, score=0.982, total=   0.4s\n",
      "[CV] C=5, gamma=0.01 .................................................\n",
      "[CV] ..................... C=5, gamma=0.01, score=0.983, total=   0.4s\n",
      "[CV] C=5, gamma=0.001 ................................................\n",
      "[CV] .................... C=5, gamma=0.001, score=0.971, total=   0.4s\n",
      "[CV] C=5, gamma=0.001 ................................................\n",
      "[CV] .................... C=5, gamma=0.001, score=0.970, total=   0.4s\n",
      "[CV] C=5, gamma=0.001 ................................................\n",
      "[CV] .................... C=5, gamma=0.001, score=0.974, total=   0.4s\n",
      "[CV] C=5, gamma=0.001 ................................................\n",
      "[CV] .................... C=5, gamma=0.001, score=0.974, total=   0.4s\n",
      "[CV] C=5, gamma=0.001 ................................................\n",
      "[CV] .................... C=5, gamma=0.001, score=0.972, total=   0.4s\n",
      "[CV] C=5, gamma=0.0001 ...............................................\n",
      "[CV] ................... C=5, gamma=0.0001, score=0.867, total=   0.5s\n",
      "[CV] C=5, gamma=0.0001 ...............................................\n",
      "[CV] ................... C=5, gamma=0.0001, score=0.867, total=   0.5s\n",
      "[CV] C=5, gamma=0.0001 ...............................................\n",
      "[CV] ................... C=5, gamma=0.0001, score=0.868, total=   0.5s\n",
      "[CV] C=5, gamma=0.0001 ...............................................\n",
      "[CV] ................... C=5, gamma=0.0001, score=0.868, total=   0.5s\n",
      "[CV] C=5, gamma=0.0001 ...............................................\n",
      "[CV] ................... C=5, gamma=0.0001, score=0.868, total=   0.5s\n",
      "[CV] C=10, gamma=1 ...................................................\n",
      "[CV] ....................... C=10, gamma=1, score=0.893, total=   1.5s\n",
      "[CV] C=10, gamma=1 ...................................................\n",
      "[CV] ....................... C=10, gamma=1, score=0.892, total=   1.5s\n",
      "[CV] C=10, gamma=1 ...................................................\n",
      "[CV] ....................... C=10, gamma=1, score=0.891, total=   1.5s\n",
      "[CV] C=10, gamma=1 ...................................................\n",
      "[CV] ....................... C=10, gamma=1, score=0.881, total=   1.5s\n",
      "[CV] C=10, gamma=1 ...................................................\n",
      "[CV] ....................... C=10, gamma=1, score=0.895, total=   1.5s\n",
      "[CV] C=10, gamma=0.1 .................................................\n",
      "[CV] ..................... C=10, gamma=0.1, score=0.957, total=   0.9s\n",
      "[CV] C=10, gamma=0.1 .................................................\n",
      "[CV] ..................... C=10, gamma=0.1, score=0.959, total=   0.9s\n",
      "[CV] C=10, gamma=0.1 .................................................\n",
      "[CV] ..................... C=10, gamma=0.1, score=0.948, total=   0.9s\n",
      "[CV] C=10, gamma=0.1 .................................................\n",
      "[CV] ..................... C=10, gamma=0.1, score=0.948, total=   0.9s\n",
      "[CV] C=10, gamma=0.1 .................................................\n",
      "[CV] ..................... C=10, gamma=0.1, score=0.957, total=   0.9s\n",
      "[CV] C=10, gamma=0.01 ................................................\n",
      "[CV] .................... C=10, gamma=0.01, score=0.979, total=   0.4s\n",
      "[CV] C=10, gamma=0.01 ................................................\n",
      "[CV] .................... C=10, gamma=0.01, score=0.984, total=   0.4s\n",
      "[CV] C=10, gamma=0.01 ................................................\n",
      "[CV] .................... C=10, gamma=0.01, score=0.979, total=   0.4s\n",
      "[CV] C=10, gamma=0.01 ................................................\n",
      "[CV] .................... C=10, gamma=0.01, score=0.982, total=   0.4s\n",
      "[CV] C=10, gamma=0.01 ................................................\n",
      "[CV] .................... C=10, gamma=0.01, score=0.981, total=   0.4s\n",
      "[CV] C=10, gamma=0.001 ...............................................\n",
      "[CV] ................... C=10, gamma=0.001, score=0.974, total=   0.4s\n",
      "[CV] C=10, gamma=0.001 ...............................................\n",
      "[CV] ................... C=10, gamma=0.001, score=0.974, total=   0.3s\n",
      "[CV] C=10, gamma=0.001 ...............................................\n",
      "[CV] ................... C=10, gamma=0.001, score=0.975, total=   0.4s\n",
      "[CV] C=10, gamma=0.001 ...............................................\n"
     ]
    },
    {
     "name": "stdout",
     "output_type": "stream",
     "text": [
      "[CV] ................... C=10, gamma=0.001, score=0.980, total=   0.4s\n",
      "[CV] C=10, gamma=0.001 ...............................................\n",
      "[CV] ................... C=10, gamma=0.001, score=0.978, total=   0.4s\n",
      "[CV] C=10, gamma=0.0001 ..............................................\n",
      "[CV] .................. C=10, gamma=0.0001, score=0.902, total=   0.5s\n",
      "[CV] C=10, gamma=0.0001 ..............................................\n",
      "[CV] .................. C=10, gamma=0.0001, score=0.902, total=   0.5s\n",
      "[CV] C=10, gamma=0.0001 ..............................................\n",
      "[CV] .................. C=10, gamma=0.0001, score=0.908, total=   0.5s\n",
      "[CV] C=10, gamma=0.0001 ..............................................\n",
      "[CV] .................. C=10, gamma=0.0001, score=0.905, total=   0.5s\n",
      "[CV] C=10, gamma=0.0001 ..............................................\n",
      "[CV] .................. C=10, gamma=0.0001, score=0.898, total=   0.5s\n",
      "[CV] C=50, gamma=1 ...................................................\n",
      "[CV] ....................... C=50, gamma=1, score=0.893, total=   1.5s\n",
      "[CV] C=50, gamma=1 ...................................................\n",
      "[CV] ....................... C=50, gamma=1, score=0.892, total=   1.5s\n",
      "[CV] C=50, gamma=1 ...................................................\n",
      "[CV] ....................... C=50, gamma=1, score=0.891, total=   1.5s\n",
      "[CV] C=50, gamma=1 ...................................................\n",
      "[CV] ....................... C=50, gamma=1, score=0.881, total=   1.5s\n",
      "[CV] C=50, gamma=1 ...................................................\n",
      "[CV] ....................... C=50, gamma=1, score=0.895, total=   1.5s\n",
      "[CV] C=50, gamma=0.1 .................................................\n",
      "[CV] ..................... C=50, gamma=0.1, score=0.957, total=   0.9s\n",
      "[CV] C=50, gamma=0.1 .................................................\n",
      "[CV] ..................... C=50, gamma=0.1, score=0.959, total=   0.9s\n",
      "[CV] C=50, gamma=0.1 .................................................\n",
      "[CV] ..................... C=50, gamma=0.1, score=0.948, total=   0.9s\n",
      "[CV] C=50, gamma=0.1 .................................................\n",
      "[CV] ..................... C=50, gamma=0.1, score=0.948, total=   0.9s\n",
      "[CV] C=50, gamma=0.1 .................................................\n",
      "[CV] ..................... C=50, gamma=0.1, score=0.957, total=   0.9s\n",
      "[CV] C=50, gamma=0.01 ................................................\n",
      "[CV] .................... C=50, gamma=0.01, score=0.980, total=   0.4s\n",
      "[CV] C=50, gamma=0.01 ................................................\n",
      "[CV] .................... C=50, gamma=0.01, score=0.982, total=   0.4s\n",
      "[CV] C=50, gamma=0.01 ................................................\n",
      "[CV] .................... C=50, gamma=0.01, score=0.980, total=   0.4s\n",
      "[CV] C=50, gamma=0.01 ................................................\n",
      "[CV] .................... C=50, gamma=0.01, score=0.982, total=   0.4s\n",
      "[CV] C=50, gamma=0.01 ................................................\n",
      "[CV] .................... C=50, gamma=0.01, score=0.982, total=   0.4s\n",
      "[CV] C=50, gamma=0.001 ...............................................\n",
      "[CV] ................... C=50, gamma=0.001, score=0.979, total=   0.3s\n",
      "[CV] C=50, gamma=0.001 ...............................................\n",
      "[CV] ................... C=50, gamma=0.001, score=0.982, total=   0.3s\n",
      "[CV] C=50, gamma=0.001 ...............................................\n",
      "[CV] ................... C=50, gamma=0.001, score=0.980, total=   0.3s\n",
      "[CV] C=50, gamma=0.001 ...............................................\n",
      "[CV] ................... C=50, gamma=0.001, score=0.982, total=   0.3s\n",
      "[CV] C=50, gamma=0.001 ...............................................\n",
      "[CV] ................... C=50, gamma=0.001, score=0.984, total=   0.3s\n",
      "[CV] C=50, gamma=0.0001 ..............................................\n",
      "[CV] .................. C=50, gamma=0.0001, score=0.970, total=   0.4s\n",
      "[CV] C=50, gamma=0.0001 ..............................................\n",
      "[CV] .................. C=50, gamma=0.0001, score=0.969, total=   0.4s\n",
      "[CV] C=50, gamma=0.0001 ..............................................\n",
      "[CV] .................. C=50, gamma=0.0001, score=0.975, total=   0.4s\n",
      "[CV] C=50, gamma=0.0001 ..............................................\n",
      "[CV] .................. C=50, gamma=0.0001, score=0.974, total=   0.4s\n",
      "[CV] C=50, gamma=0.0001 ..............................................\n",
      "[CV] .................. C=50, gamma=0.0001, score=0.972, total=   0.4s\n",
      "[CV] C=100, gamma=1 ..................................................\n",
      "[CV] ...................... C=100, gamma=1, score=0.893, total=   1.5s\n",
      "[CV] C=100, gamma=1 ..................................................\n",
      "[CV] ...................... C=100, gamma=1, score=0.892, total=   1.5s\n",
      "[CV] C=100, gamma=1 ..................................................\n",
      "[CV] ...................... C=100, gamma=1, score=0.891, total=   1.5s\n",
      "[CV] C=100, gamma=1 ..................................................\n",
      "[CV] ...................... C=100, gamma=1, score=0.881, total=   1.5s\n",
      "[CV] C=100, gamma=1 ..................................................\n",
      "[CV] ...................... C=100, gamma=1, score=0.895, total=   1.5s\n",
      "[CV] C=100, gamma=0.1 ................................................\n",
      "[CV] .................... C=100, gamma=0.1, score=0.957, total=   0.9s\n",
      "[CV] C=100, gamma=0.1 ................................................\n",
      "[CV] .................... C=100, gamma=0.1, score=0.959, total=   0.9s\n",
      "[CV] C=100, gamma=0.1 ................................................\n",
      "[CV] .................... C=100, gamma=0.1, score=0.948, total=   0.9s\n",
      "[CV] C=100, gamma=0.1 ................................................\n",
      "[CV] .................... C=100, gamma=0.1, score=0.948, total=   0.9s\n",
      "[CV] C=100, gamma=0.1 ................................................\n",
      "[CV] .................... C=100, gamma=0.1, score=0.957, total=   0.9s\n",
      "[CV] C=100, gamma=0.01 ...............................................\n",
      "[CV] ................... C=100, gamma=0.01, score=0.981, total=   0.4s\n",
      "[CV] C=100, gamma=0.01 ...............................................\n",
      "[CV] ................... C=100, gamma=0.01, score=0.982, total=   0.4s\n",
      "[CV] C=100, gamma=0.01 ...............................................\n",
      "[CV] ................... C=100, gamma=0.01, score=0.980, total=   0.4s\n",
      "[CV] C=100, gamma=0.01 ...............................................\n",
      "[CV] ................... C=100, gamma=0.01, score=0.983, total=   0.4s\n",
      "[CV] C=100, gamma=0.01 ...............................................\n",
      "[CV] ................... C=100, gamma=0.01, score=0.982, total=   0.4s\n",
      "[CV] C=100, gamma=0.001 ..............................................\n",
      "[CV] .................. C=100, gamma=0.001, score=0.979, total=   0.3s\n",
      "[CV] C=100, gamma=0.001 ..............................................\n",
      "[CV] .................. C=100, gamma=0.001, score=0.984, total=   0.3s\n",
      "[CV] C=100, gamma=0.001 ..............................................\n",
      "[CV] .................. C=100, gamma=0.001, score=0.982, total=   0.3s\n",
      "[CV] C=100, gamma=0.001 ..............................................\n",
      "[CV] .................. C=100, gamma=0.001, score=0.982, total=   0.3s\n",
      "[CV] C=100, gamma=0.001 ..............................................\n",
      "[CV] .................. C=100, gamma=0.001, score=0.983, total=   0.3s\n",
      "[CV] C=100, gamma=0.0001 .............................................\n",
      "[CV] ................. C=100, gamma=0.0001, score=0.975, total=   0.3s\n",
      "[CV] C=100, gamma=0.0001 .............................................\n",
      "[CV] ................. C=100, gamma=0.0001, score=0.975, total=   0.3s\n",
      "[CV] C=100, gamma=0.0001 .............................................\n",
      "[CV] ................. C=100, gamma=0.0001, score=0.976, total=   0.3s\n",
      "[CV] C=100, gamma=0.0001 .............................................\n",
      "[CV] ................. C=100, gamma=0.0001, score=0.980, total=   0.3s\n",
      "[CV] C=100, gamma=0.0001 .............................................\n",
      "[CV] ................. C=100, gamma=0.0001, score=0.978, total=   0.3s\n"
     ]
    },
    {
     "name": "stderr",
     "output_type": "stream",
     "text": [
      "[Parallel(n_jobs=1)]: Done 175 out of 175 | elapsed:  2.2min finished\n"
     ]
    },
    {
     "data": {
      "text/plain": [
       "GridSearchCV(estimator=SVC(),\n",
       "             param_grid={'C': [0.1, 0.5, 1, 5, 10, 50, 100],\n",
       "                         'gamma': [1, 0.1, 0.01, 0.001, 0.0001]},\n",
       "             verbose=3)"
      ]
     },
     "execution_count": 75,
     "metadata": {},
     "output_type": "execute_result"
    }
   ],
   "source": [
    "# Trying SVM\n",
    "\n",
    "from sklearn.svm import SVC\n",
    "from sklearn.model_selection import GridSearchCV\n",
    "\n",
    "param_grid = {\n",
    "    'C': [0.1,0.5,1,5,10,50,100],\n",
    "    'gamma': [1,0.1,0.01,0.001,0.0001]\n",
    "}\n",
    "\n",
    "grid = GridSearchCV(SVC(), param_grid, refit = True, verbose = 3)\n",
    "grid.fit(training_data, y_train)"
   ]
  },
  {
   "cell_type": "code",
   "execution_count": 76,
   "id": "381a917d",
   "metadata": {},
   "outputs": [
    {
     "data": {
      "text/plain": [
       "SVC(C=100, gamma=0.001)"
      ]
     },
     "execution_count": 76,
     "metadata": {},
     "output_type": "execute_result"
    }
   ],
   "source": [
    "grid.best_estimator_"
   ]
  },
  {
   "cell_type": "code",
   "execution_count": 82,
   "id": "d5501cd9",
   "metadata": {},
   "outputs": [
    {
     "name": "stdout",
     "output_type": "stream",
     "text": [
      "Accuracy Score :  0.979372197309417\n"
     ]
    }
   ],
   "source": [
    "svc = SVC(C=100, gamma = 0.001)\n",
    "svc.fit(training_data, y_train)\n",
    "svc_pred = svc.predict(testing_data)\n",
    "model_acc(y_test, svc_pred)"
   ]
  },
  {
   "cell_type": "code",
   "execution_count": 83,
   "id": "1ec05731",
   "metadata": {},
   "outputs": [
    {
     "data": {
      "text/plain": [
       "'Spam'"
      ]
     },
     "execution_count": 83,
     "metadata": {},
     "output_type": "execute_result"
    }
   ],
   "source": [
    "doc = pd.Series('hey, United won!!')\n",
    "predict_new(doc)"
   ]
  },
  {
   "cell_type": "code",
   "execution_count": 91,
   "id": "a29033ae",
   "metadata": {},
   "outputs": [
    {
     "data": {
      "text/plain": [
       "'Ham'"
      ]
     },
     "execution_count": 91,
     "metadata": {},
     "output_type": "execute_result"
    }
   ],
   "source": [
    "doc = pd.Series('Hey, we won yesterday')\n",
    "predict_new(doc)"
   ]
  },
  {
   "cell_type": "code",
   "execution_count": null,
   "id": "f3dd27e6",
   "metadata": {},
   "outputs": [],
   "source": []
  }
 ],
 "metadata": {
  "kernelspec": {
   "display_name": "Python 3 (ipykernel)",
   "language": "python",
   "name": "python3"
  },
  "language_info": {
   "codemirror_mode": {
    "name": "ipython",
    "version": 3
   },
   "file_extension": ".py",
   "mimetype": "text/x-python",
   "name": "python",
   "nbconvert_exporter": "python",
   "pygments_lexer": "ipython3",
   "version": "3.8.12"
  }
 },
 "nbformat": 4,
 "nbformat_minor": 5
}
